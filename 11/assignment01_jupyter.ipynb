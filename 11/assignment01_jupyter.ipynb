{
 "cells": [
  {
   "cell_type": "code",
   "execution_count": 4,
   "id": "40a8d932",
   "metadata": {},
   "outputs": [],
   "source": [
    "class Rectangle :\n",
    "    shape_type = \"Rectangle\"\n",
    "    def __init__(self, width, height):\n",
    "        self.width = width\n",
    "        self.height = height\n",
    "\n",
    "    def area(self) :\n",
    "        return (self.width*self.height)\n",
    "    \n",
    "    def perimeter(self) :\n",
    "        return (self.width+self.height)*2\n",
    "    \n",
    "    def is_square(self) :\n",
    "        return True if self.width==self.height else False"
   ]
  },
  {
   "cell_type": "code",
   "execution_count": 5,
   "id": "b14f40f9",
   "metadata": {},
   "outputs": [
    {
     "name": "stdout",
     "output_type": "stream",
     "text": [
      "50\n",
      "30\n",
      "False\n"
     ]
    }
   ],
   "source": [
    "r1 = Rectangle(5,10)\n",
    "print(r1.area())\n",
    "print(r1.perimeter())\n",
    "print(r1.is_square())"
   ]
  },
  {
   "cell_type": "code",
   "execution_count": 6,
   "id": "52e898b7",
   "metadata": {},
   "outputs": [
    {
     "name": "stdout",
     "output_type": "stream",
     "text": [
      "49\n",
      "28\n",
      "True\n"
     ]
    }
   ],
   "source": [
    "r2 = Rectangle(7,7)\n",
    "print(r2.area())\n",
    "print(r2.perimeter())\n",
    "print(r2.is_square())"
   ]
  }
 ],
 "metadata": {
  "kernelspec": {
   "display_name": "base",
   "language": "python",
   "name": "python3"
  },
  "language_info": {
   "codemirror_mode": {
    "name": "ipython",
    "version": 3
   },
   "file_extension": ".py",
   "mimetype": "text/x-python",
   "name": "python",
   "nbconvert_exporter": "python",
   "pygments_lexer": "ipython3",
   "version": "3.12.8"
  }
 },
 "nbformat": 4,
 "nbformat_minor": 5
}
