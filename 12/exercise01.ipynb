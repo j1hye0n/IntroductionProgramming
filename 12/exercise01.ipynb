{
 "cells": [
  {
   "cell_type": "code",
   "execution_count": null,
   "id": "cbae7d1e",
   "metadata": {},
   "outputs": [],
   "source": [
    "class Vector2D:\n",
    "    def __init__(self,x,y):\n",
    "        self.x = x\n",
    "        self.y = y\n",
    "    \n",
    "    def __add__(self, other): # 매직 메소드\n",
    "        if isinstance(other,Vector2D) :\n",
    "            return Vector2D(self.x+other.x, self.y+other.y)\n",
    "        return NotImplemented\n",
    "    \n",
    "    def __sub__(self,other) :\n",
    "        return Vector2D(self.x-other.x,self.y-other.y)\n",
    "    \n",
    "    def __mul__(self, scalar) :     # vector * int or float frame\n",
    "        if isinstance(scalar, (int,float)) :\n",
    "            return Vector2D(self.x * scalar, self.y *scalar)\n",
    "        return NotImplemented\n",
    "    \n",
    "    def __str__(self):\n",
    "        return '({}, {})'.format(self.x,self.y)\n",
    "    \n",
    "    def __repr__(self):\n",
    "        return f\"Vector2D{self.x},{self.y}\"\n",
    "    \n",
    "    def __str__(self):\n",
    "        return f\"{self.x}, {self.y}\""
   ]
  },
  {
   "cell_type": "code",
   "execution_count": 20,
   "id": "2af0424d",
   "metadata": {},
   "outputs": [],
   "source": [
    "v1=Vector2D(30,40)\n",
    "v2 = Vector2D(10,20)"
   ]
  },
  {
   "cell_type": "code",
   "execution_count": 21,
   "id": "aaf11292",
   "metadata": {},
   "outputs": [
    {
     "name": "stdout",
     "output_type": "stream",
     "text": [
      "v1+v2 =  40, 60\n",
      "v1-v2 =  40, 60\n"
     ]
    }
   ],
   "source": [
    "v3 = v1+v2\n",
    "print('v1+v2 = ',v3)\n",
    "v4 = v1+v2\n",
    "print('v1-v2 = ',v4)"
   ]
  },
  {
   "cell_type": "code",
   "execution_count": 22,
   "id": "c26b86d4",
   "metadata": {},
   "outputs": [
    {
     "name": "stdout",
     "output_type": "stream",
     "text": [
      "Vector2D30,40\n"
     ]
    }
   ],
   "source": [
    "print(repr(v1))"
   ]
  },
  {
   "cell_type": "code",
   "execution_count": 23,
   "id": "544d835b",
   "metadata": {},
   "outputs": [
    {
     "name": "stdout",
     "output_type": "stream",
     "text": [
      "30, 40\n"
     ]
    }
   ],
   "source": [
    "print(str(v1))"
   ]
  },
  {
   "cell_type": "code",
   "execution_count": 24,
   "id": "1b7379fd",
   "metadata": {},
   "outputs": [
    {
     "name": "stdout",
     "output_type": "stream",
     "text": [
      "<bound method Vector2D.__repr__ of Vector2D30,40>\n"
     ]
    }
   ],
   "source": [
    "print(v1.__repr__)"
   ]
  },
  {
   "cell_type": "code",
   "execution_count": null,
   "id": "a1ad56af",
   "metadata": {},
   "outputs": [],
   "source": [
    "n= 100\n",
    "m=100\n",
    "\n",
    "if n is m:\n",
    "    print('n is m')"
   ]
  }
 ],
 "metadata": {
  "kernelspec": {
   "display_name": "base",
   "language": "python",
   "name": "python3"
  },
  "language_info": {
   "codemirror_mode": {
    "name": "ipython",
    "version": 3
   },
   "file_extension": ".py",
   "mimetype": "text/x-python",
   "name": "python",
   "nbconvert_exporter": "python",
   "pygments_lexer": "ipython3",
   "version": "3.12.8"
  }
 },
 "nbformat": 4,
 "nbformat_minor": 5
}
